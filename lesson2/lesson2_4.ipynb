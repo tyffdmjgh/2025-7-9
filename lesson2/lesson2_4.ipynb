{
 "cells": [
  {
   "cell_type": "code",
   "execution_count": null,
   "id": "5db895ea",
   "metadata": {},
   "outputs": [],
   "source": [
    "age = 18\n",
    "#單項選擇\n",
    "if age >= 18:\n",
    "    print(\"你已成年，可以投票！\")\n"
   ]
  },
  {
   "cell_type": "code",
   "execution_count": null,
   "id": "cbe0b973",
   "metadata": {},
   "outputs": [],
   "source": [
    "age = 18\n",
    "\n",
    "if age >= 18:\n",
    "    #True\n",
    "    print(\"你已成年，可以投票！\")\n",
    "    elif:\n",
    "    #False\n",
    "    print(\"你還未成年\")\n",
    "\n"
   ]
  }
 ],
 "metadata": {
  "kernelspec": {
   "display_name": "venv1",
   "language": "python",
   "name": "python3"
  },
  "language_info": {
   "codemirror_mode": {
    "name": "ipython",
    "version": 3
   },
   "file_extension": ".py",
   "mimetype": "text/x-python",
   "name": "python",
   "nbconvert_exporter": "python",
   "pygments_lexer": "ipython3",
   "version": "3.11.13"
  }
 },
 "nbformat": 4,
 "nbformat_minor": 5
}
