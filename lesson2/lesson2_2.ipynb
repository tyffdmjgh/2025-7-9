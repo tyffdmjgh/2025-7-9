{
 "cells": [
  {
   "cell_type": "code",
   "execution_count": 2,
   "id": "e26c83ec",
   "metadata": {},
   "outputs": [
    {
     "name": "stdout",
     "output_type": "stream",
     "text": [
      "hella! python!\n"
     ]
    }
   ],
   "source": [
    "print('hella! python!')"
   ]
  },
  {
   "cell_type": "code",
   "execution_count": 1,
   "id": "24d15c21",
   "metadata": {},
   "outputs": [
    {
     "name": "stdout",
     "output_type": "stream",
     "text": [
      "Alice\n",
      "25\n",
      "1.65\n",
      "True\n"
     ]
    }
   ],
   "source": [
    "name = \"Alice\"         # 字串（string）\n",
    "age = 25               # 整數（integer）\n",
    "height = 1.65          # 浮點數（float）\n",
    "is_student = True      # 布林值（boolean）\n",
    "\n",
    "print(name)\n",
    "print(age)\n",
    "print(height)\n",
    "print(is_student)"
   ]
  },
  {
   "cell_type": "code",
   "execution_count": 10,
   "id": "ebd8269d",
   "metadata": {},
   "outputs": [
    {
     "name": "stdout",
     "output_type": "stream",
     "text": [
      "總和是：15\n"
     ]
    }
   ],
   "source": [
    "a = 10\n",
    "b = 5\n",
    "sum_result = a + b\n",
    "print(\"總和是：\", sum_result, sep='')\n"
   ]
  },
  {
   "cell_type": "code",
   "execution_count": 9,
   "id": "ebbde003",
   "metadata": {},
   "outputs": [
    {
     "data": {
      "text/plain": [
       "100000"
      ]
     },
     "execution_count": 9,
     "metadata": {},
     "output_type": "execute_result"
    }
   ],
   "source": [
    "a ** b"
   ]
  },
  {
   "cell_type": "code",
   "execution_count": 4,
   "id": "a3da7c65",
   "metadata": {},
   "outputs": [
    {
     "name": "stdout",
     "output_type": "stream",
     "text": [
      "Hello-World-!-56!\n"
     ]
    }
   ],
   "source": [
    "print('Hello', 'World', \"!\", 56, sep='-', end='!\\n')"
   ]
  },
  {
   "cell_type": "code",
   "execution_count": 3,
   "id": "4ae9bca2",
   "metadata": {},
   "outputs": [
    {
     "name": "stdout",
     "output_type": "stream",
     "text": [
      "角度為 30.00 度\n"
     ]
    }
   ],
   "source": [
    "import math\n",
    "\n",
    "# 假設對邊長為 3，斜邊長為 5\n",
    "opposite = 25\n",
    "hypotenuse = 50\n",
    "\n",
    "# 求角度（使用反正弦函數）\n",
    "radians = math.asin(opposite / hypotenuse)\n",
    "\n",
    "# 將弧度轉換為角度\n",
    "degrees = math.degrees(radians)\n",
    "\n",
    "print(f\"角度為 {degrees:.2f} 度\")"
   ]
  },
  {
   "cell_type": "code",
   "execution_count": 1,
   "id": "67ef4a5a",
   "metadata": {},
   "outputs": [
    {
     "name": "stdout",
     "output_type": "stream",
     "text": [
      "角度為 36.87 度\n"
     ]
    }
   ],
   "source": [
    "degrees = 36.86989764584401\n",
    "print(f\"角度為 {degrees:.2f} 度\")"
   ]
  }
 ],
 "metadata": {
  "kernelspec": {
   "display_name": "venv1",
   "language": "python",
   "name": "python3"
  },
  "language_info": {
   "codemirror_mode": {
    "name": "ipython",
    "version": 3
   },
   "file_extension": ".py",
   "mimetype": "text/x-python",
   "name": "python",
   "nbconvert_exporter": "python",
   "pygments_lexer": "ipython3",
   "version": "3.11.13"
  }
 },
 "nbformat": 4,
 "nbformat_minor": 5
}
