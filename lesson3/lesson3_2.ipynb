{
 "cells": [
  {
   "cell_type": "code",
   "execution_count": 2,
   "id": "eef4180f",
   "metadata": {},
   "outputs": [
    {
     "data": {
      "text/plain": [
       "11"
      ]
     },
     "execution_count": 2,
     "metadata": {},
     "output_type": "execute_result"
    }
   ],
   "source": [
    "def add_number(value1,value2):\n",
    "    return value1 +value2\n",
    "\n",
    "result =add_number(5,6)\n",
    "result"
   ]
  },
  {
   "cell_type": "code",
   "execution_count": null,
   "id": "4b5d5205",
   "metadata": {},
   "outputs": [],
   "source": [
    "def merge_and_sort_lists(list1: list[int], list2: list[int]) -> list[int]:\n",
    "    merged_list = list1 + list2        \n",
    "    merged_list.sort()                 \n",
    "    return merged_list\n"
   ]
  },
  {
   "cell_type": "markdown",
   "id": "3b2af268",
   "metadata": {},
   "source": [
    "這個 `merge_and_sort_lists` 函式的目的是將兩個整數列表合併，然後將合併後的列表排序。它接受兩個參數 `list1` 和 `list2`，這兩個參數都被註明為 `list[int]`，表示它們是整數的列表。首先，函式使用 `+` 運算子將兩個列表合併成一個新的列表 `merged_list`。這個運算子會將 `list1` 的所有元素接在 `list2` 的所有元素前面，產生一個新的列表。\n",
    "\n",
    "接著，函式呼叫 `merged_list.sort()` 方法，這會直接在原地（in-place）對 `merged_list` 進行排序。這個排序是依照元素的大小從小到大排列。最後，函式回傳排序後的 `merged_list`。這樣做的好處是簡潔且效率高，因為 Python 的內建排序演算法（Timsort）在大多數情況下都非常快速。\n",
    "\n",
    "值得注意的是，這個函式會修改 `merged_list`，但不會影響原本的 `list1` 和 `list2`。此外，如果你需要保留原始列表順序，可以放心使用這個函式，因為它只操作合併後的新列表。這個設計適合用於需要將多個數字列表合併並排序的情境，例如合併多個分數列表並找出排名。"
   ]
  },
  {
   "cell_type": "code",
   "execution_count": 29,
   "id": "60ef0bf5",
   "metadata": {},
   "outputs": [
    {
     "name": "stdout",
     "output_type": "stream",
     "text": [
      "合併並排序後的列表: [7, 8, 18, 20, 31, 64, 81, 91]\n"
     ]
    }
   ],
   "source": [
    "import random\n",
    "\n",
    "\n",
    "# Generate a list of 10 random integers, each between 1 and 100\n",
    "random_list1 = [random.randint(1, 100) for _ in range(3)]\n",
    "random_list2 = [random.randint(1, 100) for _ in range(5)]\n",
    "\n",
    "merged_sorted_list = merge_and_sort_lists(random_list1, random_list2)\n",
    "print(\"合併並排序後的列表:\", merged_sorted_list)\n",
    "# 此腳本定義了一個加法函數，合併兩個整數列表並排序。\n",
    "# 它也會產生兩個隨機整數列表，並將它們合併為一個排序後的列表。\n",
    "# 加法的結果儲存在 'result' 變數中。"
   ]
  }
 ],
 "metadata": {
  "kernelspec": {
   "display_name": "web03",
   "language": "python",
   "name": "python3"
  },
  "language_info": {
   "codemirror_mode": {
    "name": "ipython",
    "version": 3
   },
   "file_extension": ".py",
   "mimetype": "text/x-python",
   "name": "python",
   "nbconvert_exporter": "python",
   "pygments_lexer": "ipython3",
   "version": "3.11.13"
  }
 },
 "nbformat": 4,
 "nbformat_minor": 5
}
