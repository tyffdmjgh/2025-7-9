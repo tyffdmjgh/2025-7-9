{
 "cells": [
  {
   "cell_type": "code",
   "execution_count": 2,
   "id": "eef4180f",
   "metadata": {},
   "outputs": [
    {
     "data": {
      "text/plain": [
       "11"
      ]
     },
     "execution_count": 2,
     "metadata": {},
     "output_type": "execute_result"
    }
   ],
   "source": [
    "def add_number(value1,value2):\n",
    "    return value1 +value2\n",
    "\n",
    "result =add_number(5,6)\n",
    "result"
   ]
  },
  {
   "cell_type": "code",
   "execution_count": null,
   "id": "4b5d5205",
   "metadata": {},
   "outputs": [],
   "source": [
    "def merge_and_sort_lists(list1: list[int], list2: list[int]) -> list[int]:\n",
    "    merged_list = list1 + list2        \n",
    "    merged_list.sort()                 \n",
    "    return merged_list\n"
   ]
  },
  {
   "cell_type": "code",
   "execution_count": 10,
   "id": "60ef0bf5",
   "metadata": {},
   "outputs": [],
   "source": [
    "import random"
   ]
  }
 ],
 "metadata": {
  "kernelspec": {
   "display_name": "web03",
   "language": "python",
   "name": "python3"
  },
  "language_info": {
   "codemirror_mode": {
    "name": "ipython",
    "version": 3
   },
   "file_extension": ".py",
   "mimetype": "text/x-python",
   "name": "python",
   "nbconvert_exporter": "python",
   "pygments_lexer": "ipython3",
   "version": "3.11.13"
  }
 },
 "nbformat": 4,
 "nbformat_minor": 5
}
