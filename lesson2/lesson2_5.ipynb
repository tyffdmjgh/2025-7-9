{
 "cells": [
  {
   "cell_type": "code",
   "execution_count": 1,
   "id": "97878460",
   "metadata": {},
   "outputs": [
    {
     "data": {
      "text/plain": [
       "25"
      ]
     },
     "execution_count": 1,
     "metadata": {},
     "output_type": "execute_result"
    }
   ],
   "source": [
    "i = 0\n",
    "i = i + 25\n",
    "i"
   ]
  },
  {
   "cell_type": "code",
   "execution_count": 2,
   "id": "99c5338a",
   "metadata": {},
   "outputs": [
    {
     "data": {
      "text/plain": [
       "25"
      ]
     },
     "execution_count": 2,
     "metadata": {},
     "output_type": "execute_result"
    }
   ],
   "source": [
    "#複合指定運算子\n",
    "i = 0\n",
    "i += 25\n",
    "i"
   ]
  },
  {
   "cell_type": "code",
   "execution_count": 9,
   "id": "88ca98f4",
   "metadata": {},
   "outputs": [
    {
     "name": "stdout",
     "output_type": "stream",
     "text": [
      "55\n"
     ]
    }
   ],
   "source": [
    "total = 0\n",
    "total += 1\n",
    "total += 2\n",
    "total += 3\n",
    "total += 4\n",
    "total += 5\n",
    "total += 6\n",
    "total += 7\n",
    "total += 8\n",
    "total += 9\n",
    "total += 10\n",
    "\n",
    "print(total)\n"
   ]
  },
  {
   "cell_type": "code",
   "execution_count": 10,
   "id": "8c553195",
   "metadata": {},
   "outputs": [
    {
     "name": "stdout",
     "output_type": "stream",
     "text": [
      "500500\n"
     ]
    }
   ],
   "source": [
    "total = 0\n",
    "for i in range(1, 1001):\n",
    "    total += i\n",
    "print(total)\n"
   ]
  },
  {
   "cell_type": "code",
   "execution_count": 16,
   "id": "f365b042",
   "metadata": {},
   "outputs": [
    {
     "name": "stdout",
     "output_type": "stream",
     "text": [
      "計數器:1\n",
      "計數器:2\n",
      "計數器:3\n",
      "計數器:4\n",
      "計數器:5\n",
      "計數器:6\n",
      "計數器:7\n",
      "計數器:8\n",
      "計數器:9\n",
      "計數器:10\n",
      "計數器:11\n",
      "計數器:12\n",
      "計數器:13\n",
      "計數器:14\n",
      "計數器:15\n",
      "計數器:16\n",
      "計數器:17\n",
      "計數器:18\n",
      "計數器:19\n",
      "計數器:20\n",
      "計數器:21\n",
      "計數器:22\n",
      "計數器:23\n",
      "計數器:24\n",
      "計數器:25\n",
      "計數器:26\n",
      "計數器:27\n",
      "計數器:28\n",
      "計數器:29\n",
      "計數器:30\n",
      "計數器:31\n",
      "計數器:32\n",
      "計數器:33\n",
      "計數器:34\n"
     ]
    }
   ],
   "source": [
    "i = 0\n",
    "while(True):\n",
    "    is_play = input(\"您還繼續玩嗎?(y,n)\")\n",
    "    if is_play == \"n\":\n",
    "        break\n",
    "    i += 1\n",
    "    print(f\"計數器:{i}\")"
   ]
  }
 ],
 "metadata": {
  "kernelspec": {
   "display_name": "venv1",
   "language": "python",
   "name": "python3"
  },
  "language_info": {
   "codemirror_mode": {
    "name": "ipython",
    "version": 3
   },
   "file_extension": ".py",
   "mimetype": "text/x-python",
   "name": "python",
   "nbconvert_exporter": "python",
   "pygments_lexer": "ipython3",
   "version": "3.11.13"
  }
 },
 "nbformat": 4,
 "nbformat_minor": 5
}
