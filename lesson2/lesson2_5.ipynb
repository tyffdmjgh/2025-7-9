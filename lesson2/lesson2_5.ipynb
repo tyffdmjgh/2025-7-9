{
 "cells": [
  {
   "cell_type": "code",
   "execution_count": 7,
   "id": "e2bf4488",
   "metadata": {},
   "outputs": [
    {
     "name": "stdout",
     "output_type": "stream",
     "text": [
      "25\n"
     ]
    }
   ],
   "source": [
    "i=0\n",
    "i=i+25\n",
    "print(i)"
   ]
  },
  {
   "cell_type": "code",
   "execution_count": 2,
   "id": "cb5dd85a",
   "metadata": {},
   "outputs": [
    {
     "data": {
      "text/plain": [
       "25"
      ]
     },
     "execution_count": 2,
     "metadata": {},
     "output_type": "execute_result"
    }
   ],
   "source": [
    "i=0\n",
    "i+=25\n",
    "i"
   ]
  },
  {
   "cell_type": "code",
   "execution_count": 3,
   "id": "21045bbe",
   "metadata": {},
   "outputs": [
    {
     "data": {
      "text/plain": [
       "55"
      ]
     },
     "execution_count": 3,
     "metadata": {},
     "output_type": "execute_result"
    }
   ],
   "source": [
    "total =0\n",
    "total +=1\n",
    "total +=2\n",
    "total +=3\n",
    "total +=4\n",
    "total +=5\n",
    "total +=6\n",
    "total +=7\n",
    "total +=8\n",
    "total +=9\n",
    "total +=10\n",
    "total"
   ]
  },
  {
   "cell_type": "code",
   "execution_count": 4,
   "id": "8fd341d2",
   "metadata": {},
   "outputs": [
    {
     "name": "stdout",
     "output_type": "stream",
     "text": [
      "500500\n"
     ]
    }
   ],
   "source": [
    "total = 0\n",
    "for i in range(1, 1001):\n",
    "    total += i\n",
    "print(total)\n"
   ]
  },
  {
   "cell_type": "code",
   "execution_count": 5,
   "id": "978ccd89",
   "metadata": {},
   "outputs": [],
   "source": [
    "i = 0\n",
    "while(True):\n",
    "    is_play = input(\"您還繼續玩嗎?(y,n)\")\n",
    "    if is_play == \"n\":\n",
    "        break\n",
    "    i += 1\n",
    "    print(f\"計數器:{i}\")"
   ]
  }
 ],
 "metadata": {
  "kernelspec": {
   "display_name": "web02",
   "language": "python",
   "name": "python3"
  },
  "language_info": {
   "codemirror_mode": {
    "name": "ipython",
    "version": 3
   },
   "file_extension": ".py",
   "mimetype": "text/x-python",
   "name": "python",
   "nbconvert_exporter": "python",
   "pygments_lexer": "ipython3",
   "version": "3.11.13"
  }
 },
 "nbformat": 4,
 "nbformat_minor": 5
}
